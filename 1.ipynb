{
 "cells": [
  {
   "cell_type": "code",
   "execution_count": 8,
   "metadata": {
    "collapsed": true
   },
   "outputs": [],
   "source": [
    "import pandas as pd\n",
    "import numpy as np\n",
    "import matplotlib.pyplot as plt\n",
    "import seaborn as sns\n",
    "%matplotlib inline"
   ]
  },
  {
   "cell_type": "code",
   "execution_count": 9,
   "outputs": [],
   "source": [
    "bc = pd.read_csv('BTC-USD.csv')"
   ],
   "metadata": {
    "collapsed": false,
    "pycharm": {
     "name": "#%%\n"
    }
   }
  },
  {
   "cell_type": "code",
   "execution_count": 10,
   "outputs": [
    {
     "data": {
      "text/plain": "         Date          Open          High           Low         Close  \\\n0  2020-12-18  22806.796875  23238.601563  22399.812500  23137.960938   \n1  2020-12-19  23132.865234  24085.855469  22826.472656  23869.832031   \n2  2020-12-20  23861.765625  24209.660156  23147.710938  23477.294922   \n3  2020-12-21  23474.455078  24059.982422  22159.367188  22803.082031   \n4  2020-12-22  22794.039063  23789.902344  22430.605469  23783.029297   \n\n      Adj Close        Volume  \n0  23137.960938  4.038790e+10  \n1  23869.832031  3.848755e+10  \n2  23477.294922  3.784423e+10  \n3  22803.082031  4.585271e+10  \n4  23783.029297  4.417163e+10  ",
      "text/html": "<div>\n<style scoped>\n    .dataframe tbody tr th:only-of-type {\n        vertical-align: middle;\n    }\n\n    .dataframe tbody tr th {\n        vertical-align: top;\n    }\n\n    .dataframe thead th {\n        text-align: right;\n    }\n</style>\n<table border=\"1\" class=\"dataframe\">\n  <thead>\n    <tr style=\"text-align: right;\">\n      <th></th>\n      <th>Date</th>\n      <th>Open</th>\n      <th>High</th>\n      <th>Low</th>\n      <th>Close</th>\n      <th>Adj Close</th>\n      <th>Volume</th>\n    </tr>\n  </thead>\n  <tbody>\n    <tr>\n      <th>0</th>\n      <td>2020-12-18</td>\n      <td>22806.796875</td>\n      <td>23238.601563</td>\n      <td>22399.812500</td>\n      <td>23137.960938</td>\n      <td>23137.960938</td>\n      <td>4.038790e+10</td>\n    </tr>\n    <tr>\n      <th>1</th>\n      <td>2020-12-19</td>\n      <td>23132.865234</td>\n      <td>24085.855469</td>\n      <td>22826.472656</td>\n      <td>23869.832031</td>\n      <td>23869.832031</td>\n      <td>3.848755e+10</td>\n    </tr>\n    <tr>\n      <th>2</th>\n      <td>2020-12-20</td>\n      <td>23861.765625</td>\n      <td>24209.660156</td>\n      <td>23147.710938</td>\n      <td>23477.294922</td>\n      <td>23477.294922</td>\n      <td>3.784423e+10</td>\n    </tr>\n    <tr>\n      <th>3</th>\n      <td>2020-12-21</td>\n      <td>23474.455078</td>\n      <td>24059.982422</td>\n      <td>22159.367188</td>\n      <td>22803.082031</td>\n      <td>22803.082031</td>\n      <td>4.585271e+10</td>\n    </tr>\n    <tr>\n      <th>4</th>\n      <td>2020-12-22</td>\n      <td>22794.039063</td>\n      <td>23789.902344</td>\n      <td>22430.605469</td>\n      <td>23783.029297</td>\n      <td>23783.029297</td>\n      <td>4.417163e+10</td>\n    </tr>\n  </tbody>\n</table>\n</div>"
     },
     "execution_count": 10,
     "metadata": {},
     "output_type": "execute_result"
    }
   ],
   "source": [
    "bc.head()"
   ],
   "metadata": {
    "collapsed": false,
    "pycharm": {
     "name": "#%%\n"
    }
   }
  },
  {
   "cell_type": "code",
   "execution_count": 11,
   "outputs": [],
   "source": [
    "bc['Date'] = pd.to_datetime(bc.Date)"
   ],
   "metadata": {
    "collapsed": false,
    "pycharm": {
     "name": "#%%\n"
    }
   }
  }
 ],
 "metadata": {
  "kernelspec": {
   "display_name": "Python 3",
   "language": "python",
   "name": "python3"
  },
  "language_info": {
   "codemirror_mode": {
    "name": "ipython",
    "version": 2
   },
   "file_extension": ".py",
   "mimetype": "text/x-python",
   "name": "python",
   "nbconvert_exporter": "python",
   "pygments_lexer": "ipython2",
   "version": "2.7.6"
  }
 },
 "nbformat": 4,
 "nbformat_minor": 0
}