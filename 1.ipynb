{
 "cells": [
  {
   "cell_type": "code",
   "execution_count": 51,
   "metadata": {
    "collapsed": true
   },
   "outputs": [],
   "source": [
    "import pandas as pd\n",
    "import numpy as np\n",
    "\n",
    "import matplotlib.pyplot as plt\n",
    "import seaborn as sns\n",
    "%matplotlib inline"
   ]
  },
  {
   "cell_type": "code",
   "execution_count": 52,
   "outputs": [],
   "source": [
    "bc = pd.read_csv('BTC-USD.csv')"
   ],
   "metadata": {
    "collapsed": false,
    "pycharm": {
     "name": "#%%\n"
    }
   }
  },
  {
   "cell_type": "code",
   "execution_count": 53,
   "outputs": [
    {
     "data": {
      "text/plain": "         Date        Open        High         Low       Close   Adj Close  \\\n0  2014-09-17  465.864014  468.174011  452.421997  457.334015  457.334015   \n1  2014-09-18  456.859985  456.859985  413.104004  424.440002  424.440002   \n2  2014-09-19  424.102997  427.834991  384.532013  394.795990  394.795990   \n3  2014-09-20  394.673004  423.295990  389.882996  408.903992  408.903992   \n4  2014-09-21  408.084991  412.425995  393.181000  398.821014  398.821014   \n\n       Volume  \n0  21056800.0  \n1  34483200.0  \n2  37919700.0  \n3  36863600.0  \n4  26580100.0  ",
      "text/html": "<div>\n<style scoped>\n    .dataframe tbody tr th:only-of-type {\n        vertical-align: middle;\n    }\n\n    .dataframe tbody tr th {\n        vertical-align: top;\n    }\n\n    .dataframe thead th {\n        text-align: right;\n    }\n</style>\n<table border=\"1\" class=\"dataframe\">\n  <thead>\n    <tr style=\"text-align: right;\">\n      <th></th>\n      <th>Date</th>\n      <th>Open</th>\n      <th>High</th>\n      <th>Low</th>\n      <th>Close</th>\n      <th>Adj Close</th>\n      <th>Volume</th>\n    </tr>\n  </thead>\n  <tbody>\n    <tr>\n      <th>0</th>\n      <td>2014-09-17</td>\n      <td>465.864014</td>\n      <td>468.174011</td>\n      <td>452.421997</td>\n      <td>457.334015</td>\n      <td>457.334015</td>\n      <td>21056800.0</td>\n    </tr>\n    <tr>\n      <th>1</th>\n      <td>2014-09-18</td>\n      <td>456.859985</td>\n      <td>456.859985</td>\n      <td>413.104004</td>\n      <td>424.440002</td>\n      <td>424.440002</td>\n      <td>34483200.0</td>\n    </tr>\n    <tr>\n      <th>2</th>\n      <td>2014-09-19</td>\n      <td>424.102997</td>\n      <td>427.834991</td>\n      <td>384.532013</td>\n      <td>394.795990</td>\n      <td>394.795990</td>\n      <td>37919700.0</td>\n    </tr>\n    <tr>\n      <th>3</th>\n      <td>2014-09-20</td>\n      <td>394.673004</td>\n      <td>423.295990</td>\n      <td>389.882996</td>\n      <td>408.903992</td>\n      <td>408.903992</td>\n      <td>36863600.0</td>\n    </tr>\n    <tr>\n      <th>4</th>\n      <td>2014-09-21</td>\n      <td>408.084991</td>\n      <td>412.425995</td>\n      <td>393.181000</td>\n      <td>398.821014</td>\n      <td>398.821014</td>\n      <td>26580100.0</td>\n    </tr>\n  </tbody>\n</table>\n</div>"
     },
     "execution_count": 53,
     "metadata": {},
     "output_type": "execute_result"
    }
   ],
   "source": [
    "bc.head()"
   ],
   "metadata": {
    "collapsed": false,
    "pycharm": {
     "name": "#%%\n"
    }
   }
  },
  {
   "cell_type": "code",
   "execution_count": 54,
   "outputs": [],
   "source": [
    "bc['Date'] = pd.to_datetime(bc.Date)"
   ],
   "metadata": {
    "collapsed": false,
    "pycharm": {
     "name": "#%%\n"
    }
   }
  },
  {
   "cell_type": "code",
   "execution_count": 55,
   "outputs": [],
   "source": [
    "bc.set_index('Date',inplace=True)"
   ],
   "metadata": {
    "collapsed": false,
    "pycharm": {
     "name": "#%%\n"
    }
   }
  },
  {
   "cell_type": "code",
   "execution_count": 56,
   "outputs": [],
   "source": [
    "bc = bc[['Close']].loc['2014-01-01':]"
   ],
   "metadata": {
    "collapsed": false,
    "pycharm": {
     "name": "#%%\n"
    }
   }
  },
  {
   "cell_type": "code",
   "execution_count": 57,
   "outputs": [
    {
     "data": {
      "text/plain": "<AxesSubplot:xlabel='Date'>"
     },
     "execution_count": 57,
     "metadata": {},
     "output_type": "execute_result"
    },
    {
     "data": {
      "text/plain": "<Figure size 432x288 with 1 Axes>",
      "image/png": "[encoded data removed]"
     },
     "metadata": {
      "needs_background": "light"
     },
     "output_type": "display_data"
    }
   ],
   "source": [
    "bc.plot.line(y = 'Close')"
   ],
   "metadata": {
    "collapsed": false,
    "pycharm": {
     "name": "#%%\n"
    }
   }
  },
  {
   "cell_type": "code",
   "execution_count": 58,
   "outputs": [],
   "source": [
    "bc_log = pd.DataFrame(np.log(bc.Close))"
   ],
   "metadata": {
    "collapsed": false,
    "pycharm": {
     "name": "#%%\n"
    }
   }
  },
  {
   "cell_type": "code",
   "execution_count": 59,
   "outputs": [],
   "source": [
    "log_diff = bc_log.diff().dropna()"
   ],
   "metadata": {
    "collapsed": false,
    "pycharm": {
     "name": "#%%\n"
    }
   }
  },
  {
   "cell_type": "code",
   "execution_count": 60,
   "outputs": [
    {
     "ename": "ModuleNotFoundError",
     "evalue": "No module named 'statsmodels'",
     "output_type": "error",
     "traceback": [
      "\u001B[0;31m---------------------------------------------------------------------------\u001B[0m",
      "\u001B[0;31mModuleNotFoundError\u001B[0m                       Traceback (most recent call last)",
      "\u001B[0;32m/tmp/ipykernel_4339/400973460.py\u001B[0m in \u001B[0;36m<module>\u001B[0;34m\u001B[0m\n\u001B[1;32m      1\u001B[0m \u001B[0;32mimport\u001B[0m \u001B[0mscipy\u001B[0m\u001B[0;34m.\u001B[0m\u001B[0mstats\u001B[0m \u001B[0;32mas\u001B[0m \u001B[0mstats\u001B[0m\u001B[0;34m\u001B[0m\u001B[0;34m\u001B[0m\u001B[0m\n\u001B[0;32m----> 2\u001B[0;31m \u001B[0;32mfrom\u001B[0m \u001B[0mstatsmodels\u001B[0m\u001B[0;34m.\u001B[0m\u001B[0mtsa\u001B[0m\u001B[0;34m.\u001B[0m\u001B[0mstattools\u001B[0m \u001B[0;32mimport\u001B[0m \u001B[0madfuller\u001B[0m\u001B[0;34m\u001B[0m\u001B[0;34m\u001B[0m\u001B[0m\n\u001B[0m\u001B[1;32m      3\u001B[0m \u001B[0mresults\u001B[0m \u001B[0;34m=\u001B[0m \u001B[0madfuller\u001B[0m\u001B[0;34m(\u001B[0m\u001B[0mlog_diff\u001B[0m\u001B[0;34m.\u001B[0m\u001B[0mClose\u001B[0m\u001B[0;34m)\u001B[0m\u001B[0;34m\u001B[0m\u001B[0;34m\u001B[0m\u001B[0m\n",
      "\u001B[0;31mModuleNotFoundError\u001B[0m: No module named 'statsmodels'"
     ]
    }
   ],
   "source": [
    "import scipy.stats as stats\n",
    "from statsmodels.tsa.stattools import adfuller\n",
    "results = adfuller(log_diff.Close)"
   ],
   "metadata": {
    "collapsed": false,
    "pycharm": {
     "name": "#%%\n"
    }
   }
  },
  {
   "cell_type": "code",
   "execution_count": null,
   "outputs": [],
   "source": [
    "print(f\"P-value: {results[1]}\")"
   ],
   "metadata": {
    "collapsed": false,
    "pycharm": {
     "name": "#%%\n"
    }
   }
  }
 ],
 "metadata": {
  "kernelspec": {
   "display_name": "Python 3",
   "language": "python",
   "name": "python3"
  },
  "language_info": {
   "codemirror_mode": {
    "name": "ipython",
    "version": 2
   },
   "file_extension": ".py",
   "mimetype": "text/x-python",
   "name": "python",
   "nbconvert_exporter": "python",
   "pygments_lexer": "ipython2",
   "version": "2.7.6"
  }
 },
 "nbformat": 4,
 "nbformat_minor": 0
}